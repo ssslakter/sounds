{
 "cells": [
  {
   "cell_type": "code",
   "execution_count": null,
   "metadata": {},
   "outputs": [],
   "source": [
    "import scipy.io.wavfile as wf, scipy.stats as st"
   ]
  },
  {
   "cell_type": "code",
   "execution_count": null,
   "metadata": {},
   "outputs": [],
   "source": [
    "class Wave(np.array):\n",
    "    def __init__(self, data, rate=44_100):\n",
    "        super().__init__(data, np.float32)\n",
    "\n",
    "    def show(self, n_period=5, ax=None):\n",
    "        ax = ifnone(ax, plt.subplots()[1])\n",
    "        d = self.data if n_period is None else self.data[:n_period*self.rate//self.freq]\n",
    "        ax.plot(d)\n",
    "    def save(self,fname): wf.write(fname, self.rate, self)\n",
    "    \n",
    "\n",
    "\n",
    "class Wave:\n",
    "    def __init__(self, freq, seconds=1, rate=44_100, volume=1):\n",
    "        '''human can hear frequencies from 20 Hz to 20.000 Hz'''\n",
    "        store_attr()\n",
    "        self.t = np.linspace(0.,seconds, int(np.round(rate*seconds)), dtype=np.float32)\n",
    "        self.data = volume*np.sin(np.pi*2*freq*self.t)\n",
    "    \n",
    "    def save(self,fname): wf.write(fname, self.rate, self.data)\n",
    "    \n",
    "    def show(self, n_period=5, ax=None):\n",
    "        ax = ifnone(ax, plt.subplots()[1])\n",
    "        d = self.data if n_period is None else self.data[:n_period*self.rate//self.freq]\n",
    "        ax.plot(d)\n",
    "    \n",
    "    def __neg__(self): \n",
    "        res = copy(self)\n",
    "        res.data = -self.data\n",
    "        return res\n",
    "    \n",
    "    def __add__(self, other):\n",
    "        res = copy(self)\n",
    "        if isinstance(other, Wave):\n",
    "            assert self.rate == other.rate\n",
    "            res.data = self.data + other.data\n",
    "        else: res.data += other\n",
    "        return res\n",
    "    \n",
    "    def __sub__(self, other): return self + (-other)\n",
    "\n",
    "\n",
    "class Pulse(Wave):\n",
    "    def __init__(self, freq, seconds=1, rate=44_100, max_volume=1, ratio=2):\n",
    "        super().__init__(freq, seconds, rate)\n",
    "        volume = st.norm.pdf(self.t, self.t.mean(), self.t.std()/ratio).astype(np.float32)\n",
    "        self.data = volume/volume.max()*max_volume*np.sin(np.pi*2*freq*self.t)"
   ]
  },
  {
   "cell_type": "code",
   "execution_count": null,
   "metadata": {},
   "outputs": [],
   "source": [
    "freq = 256\n",
    "t = 10\n",
    "wav = Wave(freq, t)+ Wave(2*freq,t) - Wave(freq*5/4,t)\n",
    "wav.show()\n",
    "wav.save('test.wav')"
   ]
  },
  {
   "cell_type": "code",
   "execution_count": null,
   "metadata": {},
   "outputs": [],
   "source": [
    "p = Pulse(256*5, 1.5)\n",
    "p.show(None)\n",
    "p.save('test.wav')"
   ]
  }
 ],
 "metadata": {},
 "nbformat": 4,
 "nbformat_minor": 2
}
