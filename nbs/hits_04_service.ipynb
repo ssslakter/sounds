{
 "cells": [
  {
   "cell_type": "code",
   "execution_count": null,
   "metadata": {},
   "outputs": [],
   "source": [
    "#|default_exp hits.service"
   ]
  },
  {
   "cell_type": "code",
   "execution_count": null,
   "metadata": {},
   "outputs": [],
   "source": [
    "#|export\n",
    "import onnxruntime, requests, math, soundfile as sf\n",
    "from fastprogress import progress_bar\n",
    "from collections import deque\n",
    "import librosa, numpy as np, logging as l\n",
    "from dataclasses import dataclass\n",
    "from pathlib import Path\n",
    "from fastcore.all import ifnone, call_parse\n",
    "from datetime import date"
   ]
  },
  {
   "cell_type": "code",
   "execution_count": null,
   "metadata": {},
   "outputs": [],
   "source": [
    "#|export\n",
    "def split_audio(arr, w_size, stride):\n",
    "    n_frames = (arr.shape[0] - w_size)//stride + 1\n",
    "    strides = (stride*arr.dtype.itemsize, arr.dtype.itemsize)\n",
    "    return np.lib.stride_tricks.as_strided(arr, shape=(n_frames, w_size), strides=strides).copy()"
   ]
  },
  {
   "cell_type": "code",
   "execution_count": null,
   "metadata": {},
   "outputs": [],
   "source": [
    "#|export\n",
    "@dataclass\n",
    "class Config:\n",
    "    sr: int = 16_000\n",
    "    n_mfcc: int = 64\n",
    "    window_size_s: float = 1.0\n",
    "    window_size: int = int(window_size_s*sr)\n",
    "    stride: int = int(0.7*sr)\n",
    "    ths: float = 0.7\n",
    "    buffer_size: int = 25_000\n",
    "    buffer_stride: int = 15_000\n",
    "    verbose: bool = False"
   ]
  },
  {
   "cell_type": "code",
   "execution_count": null,
   "metadata": {},
   "outputs": [],
   "source": [
    "#|export\n",
    "def apply_transforms(y, cfg: Config):\n",
    "    # should be the same as `x_tfms`\n",
    "    n_fft = 400\n",
    "    win_len = 400\n",
    "    hop_len = win_len//2\n",
    "    n_mels = 64\n",
    "    return librosa.feature.mfcc(\n",
    "        y=y,\n",
    "        sr=cfg.sr,\n",
    "        n_mfcc=cfg.n_mfcc,\n",
    "        n_fft=n_fft,\n",
    "        hop_length=hop_len,\n",
    "        win_length=win_len,\n",
    "        pad_mode=\"reflect\",\n",
    "        n_mels=n_mels,\n",
    "        htk=True,\n",
    "        norm='slaney')\n",
    "\n",
    "def predict(audio, model, cfg: Config, pipe=apply_transforms):\n",
    "    ths = cfg.ths\n",
    "    window_size=cfg.window_size\n",
    "    sr = cfg.sr\n",
    "    \n",
    "    logit = math.log(ths/(1-ths))\n",
    "    frames = split_audio(audio, int(3.0*sr), sr)\n",
    "    res, last_det = [], False\n",
    "    if cfg.verbose: frames = progress_bar(frames)\n",
    "    for i,f in enumerate(frames):\n",
    "        x = pipe(f[window_size:2*window_size], cfg)[None]\n",
    "        if model(x)[0] >= logit and not last_det:\n",
    "            l.debug(f\"Detected hit at frame {i}. Next frame will be ignored.\")\n",
    "            res.append(f)\n",
    "            last_det = True\n",
    "        else: last_det = False\n",
    "    l.info(f\"Detected {len(res)} hits\")\n",
    "    return res\n",
    "\n",
    "\n",
    "def stream_loop(stream_url, model, out_fldr='./preds', cfg = Config()):\n",
    "    # init request, buffer and output folder\n",
    "    out_fldr, tmp = Path(out_fldr), Path('temp.mp3')\n",
    "    out_fldr.mkdir(exist_ok=True, parents=True)\n",
    "    r = requests.get(stream_url, stream=True)\n",
    "    buff = deque(maxlen=cfg.buffer_size)\n",
    "    total_bytes = 0\n",
    "    l.info(\"Starting stream loop\")\n",
    "    try:\n",
    "        for block in r.iter_content(4096):\n",
    "            total_bytes += len(block)\n",
    "            buff.extend(block)\n",
    "            \n",
    "            # when buffer is filled with audio extract, write to file and predict\n",
    "            if len(buff) == cfg.buffer_size:\n",
    "                l.info(\"Buffer filled, extracting audio\")\n",
    "                with open(tmp, 'wb') as f:\n",
    "                    f.write(bytes(buff))\n",
    "                    # clear buffer for next iteration\n",
    "                    for _ in range(cfg.buffer_stride): buff.popleft() \n",
    "                l.info(\"Reading audio from {}\")\n",
    "                audio, _ = librosa.load(tmp, sr=cfg.sr)\n",
    "                l.info(f\"Read audio of length {len(audio)}. Predicting\")\n",
    "                res = predict(audio, model, cfg)\n",
    "                for r in res:\n",
    "                    idx = len(list(out_fldr.iterdir()))\n",
    "                    fname = out_fldr/f'{idx}.wav'\n",
    "                    l.debug(f\"Writing hit to {fname}\")\n",
    "                    sf.write(fname, r, cfg.sr)\n",
    "    except KeyboardInterrupt:\n",
    "        l.info(f\"Exiting stream loop. Total bytes read: {total_bytes}\")\n",
    "        return"
   ]
  },
  {
   "cell_type": "code",
   "execution_count": null,
   "metadata": {},
   "outputs": [],
   "source": [
    "#|export\n",
    "DEF_FMT = '%(asctime)s - %(name)s - %(levelname)s - %(message)s'\n",
    "def init_logger(name: str = None, level=l.INFO, format: str = None, handlers: list = None, logs_dir='./logs'):\n",
    "    '''Initializes a logger, adds handlers and sets the format. If logs_dir is provided, a file handler is added to the logger.'''\n",
    "    handlers = ifnone(handlers, [])\n",
    "    handlers.append(l.StreamHandler())\n",
    "    if logs_dir: \n",
    "        p = Path(logs_dir)/f'{date.today()}.log'\n",
    "        p.parent.mkdir(parents=True, exist_ok=True)\n",
    "        handlers.append(l.FileHandler(p)) \n",
    "    log_fmt = l.Formatter(ifnone(format, DEF_FMT), datefmt='%Y-%m-%d %H:%M:%S')\n",
    "    log = l.getLogger(name)\n",
    "    log.setLevel(level)\n",
    "    log.handlers.clear()\n",
    "    for h in handlers: h.setFormatter(log_fmt); log.addHandler(h)"
   ]
  },
  {
   "cell_type": "code",
   "execution_count": null,
   "metadata": {},
   "outputs": [],
   "source": [
    "#|export\n",
    "@call_parse\n",
    "def main(url:str= 'http://localhost:8000/stream', model: str = \"./model.onnx\"):\n",
    "    init_logger()\n",
    "    onnx_sess = onnxruntime.InferenceSession(model, providers=['CPUExecutionProvider'])\n",
    "    model = lambda x: onnx_sess.run(None, {\"input\": x})\n",
    "    stream_loop(url, model)"
   ]
  }
 ],
 "metadata": {
  "kernelspec": {
   "display_name": "python3",
   "language": "python",
   "name": "python3"
  }
 },
 "nbformat": 4,
 "nbformat_minor": 2
}
